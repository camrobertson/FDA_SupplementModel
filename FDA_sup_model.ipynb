{
  "nbformat": 4,
  "nbformat_minor": 0,
  "metadata": {
    "colab": {
      "name": "FDA_sup_model.ipynb",
      "version": "0.3.2",
      "provenance": [],
      "include_colab_link": true
    },
    "kernelspec": {
      "name": "python3",
      "display_name": "Python 3"
    }
  },
  "cells": [
    {
      "cell_type": "markdown",
      "metadata": {
        "id": "view-in-github",
        "colab_type": "text"
      },
      "source": [
        "<a href=\"https://colab.research.google.com/github/camrobertson/FDA_SupplementModel/blob/master/FDA_sup_model.ipynb\" target=\"_parent\"><img src=\"https://colab.research.google.com/assets/colab-badge.svg\" alt=\"Open In Colab\"/></a>"
      ]
    },
    {
      "cell_type": "markdown",
      "metadata": {
        "id": "R_IYhsC4Rdr_",
        "colab_type": "text"
      },
      "source": [
        "ML analysis to predict timing/nature of supplements following BLA/NDA submission\n",
        "\n",
        "Input from drugs@fda.com\n",
        "Highlight variables BLA/NDA, Date of Submission,, Therapeutic Area (review division), priority review, breakthrough therapy, accelerated approval\n",
        "See what happens (start w/ RFS)"
      ]
    },
    {
      "cell_type": "code",
      "metadata": {
        "id": "t3rJ7hGURdNG",
        "colab_type": "code",
        "colab": {
          "base_uri": "https://localhost:8080/",
          "height": 51
        },
        "outputId": "e0f0c254-86a0-4c6c-c9f8-50bf67e887a7"
      },
      "source": [
        "# Install the PyDrive wrapper & import libraries.\n",
        "# This only needs to be done once per notebook.\n",
        "!pip install -U -q PyDrive\n",
        "from pydrive.auth import GoogleAuth\n",
        "from pydrive.drive import GoogleDrive\n",
        "from google.colab import auth\n",
        "from google.colab import files\n",
        "from google.colab import drive\n",
        "from oauth2client.client import GoogleCredentials\n",
        "\n",
        "import matplotlib.pyplot as plt\n",
        "import pandas as pd #this is how I usually import pandas\n",
        "import sys #only needed to determine Python version number\n",
        "import matplotlib as mpl #only needed to determine Matplotlib version number\n",
        "import csv"
      ],
      "execution_count": 1,
      "outputs": [
        {
          "output_type": "stream",
          "text": [
            "\u001b[?25l\r\u001b[K     |▎                               | 10kB 20.0MB/s eta 0:00:01\r\u001b[K     |▋                               | 20kB 1.8MB/s eta 0:00:01\r\u001b[K     |█                               | 30kB 2.7MB/s eta 0:00:01\r\u001b[K     |█▎                              | 40kB 1.7MB/s eta 0:00:01\r\u001b[K     |█▋                              | 51kB 2.1MB/s eta 0:00:01\r\u001b[K     |██                              | 61kB 2.5MB/s eta 0:00:01\r\u001b[K     |██▎                             | 71kB 2.9MB/s eta 0:00:01\r\u001b[K     |██▋                             | 81kB 3.3MB/s eta 0:00:01\r\u001b[K     |███                             | 92kB 3.7MB/s eta 0:00:01\r\u001b[K     |███▎                            | 102kB 2.8MB/s eta 0:00:01\r\u001b[K     |███▋                            | 112kB 2.8MB/s eta 0:00:01\r\u001b[K     |████                            | 122kB 2.8MB/s eta 0:00:01\r\u001b[K     |████▎                           | 133kB 2.8MB/s eta 0:00:01\r\u001b[K     |████▋                           | 143kB 2.8MB/s eta 0:00:01\r\u001b[K     |█████                           | 153kB 2.8MB/s eta 0:00:01\r\u001b[K     |█████▎                          | 163kB 2.8MB/s eta 0:00:01\r\u001b[K     |█████▋                          | 174kB 2.8MB/s eta 0:00:01\r\u001b[K     |██████                          | 184kB 2.8MB/s eta 0:00:01\r\u001b[K     |██████▎                         | 194kB 2.8MB/s eta 0:00:01\r\u001b[K     |██████▋                         | 204kB 2.8MB/s eta 0:00:01\r\u001b[K     |███████                         | 215kB 2.8MB/s eta 0:00:01\r\u001b[K     |███████▎                        | 225kB 2.8MB/s eta 0:00:01\r\u001b[K     |███████▋                        | 235kB 2.8MB/s eta 0:00:01\r\u001b[K     |████████                        | 245kB 2.8MB/s eta 0:00:01\r\u001b[K     |████████▎                       | 256kB 2.8MB/s eta 0:00:01\r\u001b[K     |████████▋                       | 266kB 2.8MB/s eta 0:00:01\r\u001b[K     |█████████                       | 276kB 2.8MB/s eta 0:00:01\r\u001b[K     |█████████▎                      | 286kB 2.8MB/s eta 0:00:01\r\u001b[K     |█████████▋                      | 296kB 2.8MB/s eta 0:00:01\r\u001b[K     |██████████                      | 307kB 2.8MB/s eta 0:00:01\r\u001b[K     |██████████▎                     | 317kB 2.8MB/s eta 0:00:01\r\u001b[K     |██████████▋                     | 327kB 2.8MB/s eta 0:00:01\r\u001b[K     |███████████                     | 337kB 2.8MB/s eta 0:00:01\r\u001b[K     |███████████▎                    | 348kB 2.8MB/s eta 0:00:01\r\u001b[K     |███████████▋                    | 358kB 2.8MB/s eta 0:00:01\r\u001b[K     |████████████                    | 368kB 2.8MB/s eta 0:00:01\r\u001b[K     |████████████▎                   | 378kB 2.8MB/s eta 0:00:01\r\u001b[K     |████████████▋                   | 389kB 2.8MB/s eta 0:00:01\r\u001b[K     |█████████████                   | 399kB 2.8MB/s eta 0:00:01\r\u001b[K     |█████████████▎                  | 409kB 2.8MB/s eta 0:00:01\r\u001b[K     |█████████████▋                  | 419kB 2.8MB/s eta 0:00:01\r\u001b[K     |██████████████                  | 430kB 2.8MB/s eta 0:00:01\r\u001b[K     |██████████████▎                 | 440kB 2.8MB/s eta 0:00:01\r\u001b[K     |██████████████▋                 | 450kB 2.8MB/s eta 0:00:01\r\u001b[K     |███████████████                 | 460kB 2.8MB/s eta 0:00:01\r\u001b[K     |███████████████▎                | 471kB 2.8MB/s eta 0:00:01\r\u001b[K     |███████████████▋                | 481kB 2.8MB/s eta 0:00:01\r\u001b[K     |████████████████                | 491kB 2.8MB/s eta 0:00:01\r\u001b[K     |████████████████▎               | 501kB 2.8MB/s eta 0:00:01\r\u001b[K     |████████████████▋               | 512kB 2.8MB/s eta 0:00:01\r\u001b[K     |█████████████████               | 522kB 2.8MB/s eta 0:00:01\r\u001b[K     |█████████████████▎              | 532kB 2.8MB/s eta 0:00:01\r\u001b[K     |█████████████████▋              | 542kB 2.8MB/s eta 0:00:01\r\u001b[K     |██████████████████              | 552kB 2.8MB/s eta 0:00:01\r\u001b[K     |██████████████████▎             | 563kB 2.8MB/s eta 0:00:01\r\u001b[K     |██████████████████▋             | 573kB 2.8MB/s eta 0:00:01\r\u001b[K     |███████████████████             | 583kB 2.8MB/s eta 0:00:01\r\u001b[K     |███████████████████▎            | 593kB 2.8MB/s eta 0:00:01\r\u001b[K     |███████████████████▋            | 604kB 2.8MB/s eta 0:00:01\r\u001b[K     |████████████████████            | 614kB 2.8MB/s eta 0:00:01\r\u001b[K     |████████████████████▎           | 624kB 2.8MB/s eta 0:00:01\r\u001b[K     |████████████████████▋           | 634kB 2.8MB/s eta 0:00:01\r\u001b[K     |█████████████████████           | 645kB 2.8MB/s eta 0:00:01\r\u001b[K     |█████████████████████▎          | 655kB 2.8MB/s eta 0:00:01\r\u001b[K     |█████████████████████▋          | 665kB 2.8MB/s eta 0:00:01\r\u001b[K     |██████████████████████          | 675kB 2.8MB/s eta 0:00:01\r\u001b[K     |██████████████████████▎         | 686kB 2.8MB/s eta 0:00:01\r\u001b[K     |██████████████████████▋         | 696kB 2.8MB/s eta 0:00:01\r\u001b[K     |███████████████████████         | 706kB 2.8MB/s eta 0:00:01\r\u001b[K     |███████████████████████▎        | 716kB 2.8MB/s eta 0:00:01\r\u001b[K     |███████████████████████▋        | 727kB 2.8MB/s eta 0:00:01\r\u001b[K     |████████████████████████        | 737kB 2.8MB/s eta 0:00:01\r\u001b[K     |████████████████████████▎       | 747kB 2.8MB/s eta 0:00:01\r\u001b[K     |████████████████████████▋       | 757kB 2.8MB/s eta 0:00:01\r\u001b[K     |████████████████████████▉       | 768kB 2.8MB/s eta 0:00:01\r\u001b[K     |█████████████████████████▏      | 778kB 2.8MB/s eta 0:00:01\r\u001b[K     |█████████████████████████▌      | 788kB 2.8MB/s eta 0:00:01\r\u001b[K     |█████████████████████████▉      | 798kB 2.8MB/s eta 0:00:01\r\u001b[K     |██████████████████████████▏     | 808kB 2.8MB/s eta 0:00:01\r\u001b[K     |██████████████████████████▌     | 819kB 2.8MB/s eta 0:00:01\r\u001b[K     |██████████████████████████▉     | 829kB 2.8MB/s eta 0:00:01\r\u001b[K     |███████████████████████████▏    | 839kB 2.8MB/s eta 0:00:01\r\u001b[K     |███████████████████████████▌    | 849kB 2.8MB/s eta 0:00:01\r\u001b[K     |███████████████████████████▉    | 860kB 2.8MB/s eta 0:00:01\r\u001b[K     |████████████████████████████▏   | 870kB 2.8MB/s eta 0:00:01\r\u001b[K     |████████████████████████████▌   | 880kB 2.8MB/s eta 0:00:01\r\u001b[K     |████████████████████████████▉   | 890kB 2.8MB/s eta 0:00:01\r\u001b[K     |█████████████████████████████▏  | 901kB 2.8MB/s eta 0:00:01\r\u001b[K     |█████████████████████████████▌  | 911kB 2.8MB/s eta 0:00:01\r\u001b[K     |█████████████████████████████▉  | 921kB 2.8MB/s eta 0:00:01\r\u001b[K     |██████████████████████████████▏ | 931kB 2.8MB/s eta 0:00:01\r\u001b[K     |██████████████████████████████▌ | 942kB 2.8MB/s eta 0:00:01\r\u001b[K     |██████████████████████████████▉ | 952kB 2.8MB/s eta 0:00:01\r\u001b[K     |███████████████████████████████▏| 962kB 2.8MB/s eta 0:00:01\r\u001b[K     |███████████████████████████████▌| 972kB 2.8MB/s eta 0:00:01\r\u001b[K     |███████████████████████████████▉| 983kB 2.8MB/s eta 0:00:01\r\u001b[K     |████████████████████████████████| 993kB 2.8MB/s \n",
            "\u001b[?25h  Building wheel for PyDrive (setup.py) ... \u001b[?25l\u001b[?25hdone\n"
          ],
          "name": "stdout"
        }
      ]
    },
    {
      "cell_type": "code",
      "metadata": {
        "id": "FQje-gZ3Zszg",
        "colab_type": "code",
        "colab": {}
      },
      "source": [
        "# Authenticate and create the PyDrive client.\n",
        "# This only needs to be done once per notebook.\n",
        "# Might be redundant w/ Cell #5\n",
        "auth.authenticate_user()\n",
        "gauth = GoogleAuth()\n",
        "gauth.credentials = GoogleCredentials.get_application_default()\n",
        "drive = GoogleDrive(gauth)"
      ],
      "execution_count": 0,
      "outputs": []
    },
    {
      "cell_type": "code",
      "metadata": {
        "id": "W4pyxpE96JC8",
        "colab_type": "code",
        "colab": {}
      },
      "source": [
        "from google.colab import drive\n",
        "drive.mount('/content/gdrive')"
      ],
      "execution_count": 0,
      "outputs": []
    },
    {
      "cell_type": "code",
      "metadata": {
        "id": "uSu0DNXzFXp5",
        "colab_type": "code",
        "colab": {}
      },
      "source": [
        "#works to import data\n",
        "Products_df = pd.read_csv('/content/gdrive/My Drive/FDA_data/target/Products.txt', '\\t', low_memory = False, error_bad_lines = False, encoding = \"utf8\")\n",
        "Products_df.describe()\n",
        "#Products_df\n",
        "\n",
        "#works to import data\n",
        "Submissions_df = pd.read_csv('/content/gdrive/My Drive/FDA_data/target/Submissions.txt', '\\t', low_memory = False, error_bad_lines = False, encoding='ISO-8859-1')\n",
        "#Submissions_df.describe()\n",
        "\n",
        "#works to import data\n",
        "Applications_df = pd.read_csv('/content/gdrive/My Drive/FDA_data/target/Applications.txt', '\\t', low_memory = False, error_bad_lines = False, encoding='ISO-8859-1')\n",
        "#Applications_df.describe()"
      ],
      "execution_count": 0,
      "outputs": []
    },
    {
      "cell_type": "code",
      "metadata": {
        "id": "mKWNGWZPgBYb",
        "colab_type": "code",
        "colab": {}
      },
      "source": [
        "Applications_df"
      ],
      "execution_count": 0,
      "outputs": []
    },
    {
      "cell_type": "markdown",
      "metadata": {
        "id": "qR9wwQ9Wbm0s",
        "colab_type": "text"
      },
      "source": [
        "Submission Type Binary: \n",
        "*   Original Submission = 0\n",
        "*   Supplement = 1\n",
        "\n",
        "Application Type\n",
        "* NDA = 0\n",
        "* BLA = 1\n",
        "\n",
        "ReviewPriority\n",
        "* Standard = 0\n",
        "* Unknown = 0\n",
        "* Priority = 1\n",
        "\n",
        "NaN = 0 Across all\n",
        "\n"
      ]
    },
    {
      "cell_type": "code",
      "metadata": {
        "id": "lheEvCongLiX",
        "colab_type": "code",
        "colab": {
          "base_uri": "https://localhost:8080/",
          "height": 68
        },
        "outputId": "a322b742-7666-4a42-f949-d231de810ef3"
      },
      "source": [
        "Master_df = Submissions_df.set_index('ApplNo').join(Applications_df.set_index('ApplNo'))\n",
        "Master_df = Master_df[Master_df.ApplType != \"ANDA\"]\n",
        "\n",
        "mask = (Master_df[\"ApplType\"] == \"ANDA\")\n",
        "print (Master_df.loc[mask])"
      ],
      "execution_count": 92,
      "outputs": [
        {
          "output_type": "stream",
          "text": [
            "Empty DataFrame\n",
            "Columns: [SubmissionClassCodeID, SubmissionType, SubmissionNo, SubmissionStatus, SubmissionStatusDate, SubmissionsPublicNotes, ReviewPriority, ApplType, ApplPublicNotes, SponsorName]\n",
            "Index: []\n"
          ],
          "name": "stdout"
        }
      ]
    },
    {
      "cell_type": "code",
      "metadata": {
        "id": "fNGHVQAHT9le",
        "colab_type": "code",
        "colab": {}
      },
      "source": [
        "\n",
        "Master_df['SubmissionType'] = Master_df['SubmissionType'].map({'ORIG': 0, 'SUPPL': 1})\n",
        "Master_df['ApplType'] = Master_df['ApplType'].map({'NDA': 0, 'BLA': 1})\n",
        "Master_df['ReviewPriority'] = Master_df['ReviewPriority'].map({'STANDARD':0, 'UNKNOWN' :0, 'PRIORITY' :1})\n",
        "\n",
        "Master_df.fillna(0, inplace = True)\n",
        "\n",
        "Master_df['ApplType'] = Master_df['ApplType'].astype(int)\n",
        "Master_df['SubmissionClassCodeID'] = Master_df['SubmissionClassCodeID'].astype(int)\n",
        "Master_df['ReviewPriority'] = Master_df['ReviewPriority'].astype(int)\n",
        "#Master_df['SubmissionStatus'] = pd.to_datetime(Master_df['SubmissionStatus'], errors=\"ignore\")\n",
        "\n"
      ],
      "execution_count": 0,
      "outputs": []
    },
    {
      "cell_type": "code",
      "metadata": {
        "id": "iCPFH-npNpFu",
        "colab_type": "code",
        "colab": {}
      },
      "source": [
        "#reset index of Master Df\n",
        "import numpy as np\n",
        "Master_df['Index'] = np.arange(len(Master_df))\n",
        "Master_df['ApplNo'] = Master_df.index\n",
        "Master_df = Master_df.set_index('Index')\n",
        "Master_df['SubmissionStatusDate'] = pd.to_datetime(Master_df['SubmissionStatusDate']) \n",
        "Master_df\n",
        "\n"
      ],
      "execution_count": 0,
      "outputs": []
    },
    {
      "cell_type": "code",
      "metadata": {
        "colab_type": "code",
        "id": "TKOOa1LXXq0t",
        "colab": {}
      },
      "source": [
        "start_date = '2012-01-01'\n",
        "mask = (Master_df['SubmissionStatusDate'] > start_date)\n",
        "Master_df = Master_df.loc[mask]"
      ],
      "execution_count": 0,
      "outputs": []
    },
    {
      "cell_type": "code",
      "metadata": {
        "id": "BtlGGvuXdePs",
        "colab_type": "code",
        "colab": {}
      },
      "source": [
        "Master_df\n"
      ],
      "execution_count": 0,
      "outputs": []
    },
    {
      "cell_type": "code",
      "metadata": {
        "id": "zR8e5uBsXFxd",
        "colab_type": "code",
        "colab": {}
      },
      "source": [
        "import matplotlib.pyplot as plt\n",
        "plt.scatter(Master_df['SubmissionStatusDate'], Master_df['SubmissionClassCodeID'])\n",
        "plt.show()\n"
      ],
      "execution_count": 0,
      "outputs": []
    },
    {
      "cell_type": "markdown",
      "metadata": {
        "id": "tV6UdD4aZh5q",
        "colab_type": "text"
      },
      "source": [
        "Next tasks\n",
        "\n",
        "1.   Determine difference between approval date and submission date\n",
        "2.   Create / select Data sets by submission class code\n",
        "3.   Run model RFS test, see how it goes... ?\n"
      ]
    },
    {
      "cell_type": "code",
      "metadata": {
        "id": "jekzOi-noWcr",
        "colab_type": "code",
        "colab": {}
      },
      "source": [
        "Original_df = Master_df.loc[Master_df['SubmissionType'] == 0, ['ApplNo', 'SubmissionStatusDate']]\n",
        "###Start Here"
      ],
      "execution_count": 0,
      "outputs": []
    },
    {
      "cell_type": "code",
      "metadata": {
        "id": "YF1U5TnaZUUA",
        "colab_type": "code",
        "colab": {}
      },
      "source": [
        "Master_df[\"TimeToSubmission\"] = "
      ],
      "execution_count": 0,
      "outputs": []
    },
    {
      "cell_type": "code",
      "metadata": {
        "id": "tX7dGQSTURMV",
        "colab_type": "code",
        "outputId": "769c04f0-884f-4daa-d684-4a9e63d646bd",
        "colab": {
          "base_uri": "https://localhost:8080/",
          "height": 221
        }
      },
      "source": [
        "Master_df.loc[69, :]\n"
      ],
      "execution_count": 79,
      "outputs": [
        {
          "output_type": "execute_result",
          "data": {
            "text/plain": [
              "SubmissionClassCodeID                       4\n",
              "SubmissionType                              1\n",
              "SubmissionNo                               21\n",
              "SubmissionStatus                           AP\n",
              "SubmissionStatusDate      2014-09-30 00:00:00\n",
              "SubmissionsPublicNotes                      0\n",
              "ReviewPriority                              0\n",
              "ApplType                                    0\n",
              "ApplPublicNotes                             0\n",
              "SponsorName                 MERCK SHARP DOHME\n",
              "ApplNo                                   1546\n",
              "Name: 69, dtype: object"
            ]
          },
          "metadata": {
            "tags": []
          },
          "execution_count": 79
        }
      ]
    },
    {
      "cell_type": "markdown",
      "metadata": {
        "id": "7FiLfTmleZQp",
        "colab_type": "text"
      },
      "source": [
        "SubmissionClassCodeID\tSubmissionClassCode\tSubmissionClassCodeDescription\n",
        "\n",
        "1\tBIOEQUIV\tBioequivalence\n",
        "\n",
        "2\tEFFICACY\tEfficacy\n",
        "\n",
        "3\tLABELING\tLabeling\n",
        "\n",
        "4\tMANUF (CMC)\tManufacturing (CMC)\n",
        "\n",
        "5\tN/A\tNot Applicable\n",
        "\n",
        "6\tS\tSupplement\n",
        "\n",
        "7\tTYPE 1\tType 1 - New Molecular Entity\n",
        "\n",
        "8\tTYPE 1/4\tType 1 - New Molecular Entity and Type 4 - New Combination\n",
        "\n",
        "9\tTYPE 2\tType 2 - New Active Ingredient\n",
        "\n",
        "10\tTYPE 2/3\tType 2 - New Active Ingredient and Type 3 - New Dosage Form\n",
        "\n",
        "11\tTYPE 2/4\tType 2 New Active Ingredient and Type 4 New Combination\n",
        "\n",
        "12\tTYPE 3\tType 3 - New Dosage Form\n",
        "\n",
        "13\tTYPE 3/4\tType 3 - New Dosage Form and Type 4 - New Combination\n",
        "\n",
        "14\tTYPE 4\tType 4 - New Combination\n",
        "\n",
        "15\tTYPE 5\tType 5 - New Formulation or New Manufacturer\n",
        "\n",
        "16\tTYPE 6\tType 6 - New Indication (no longer used)\n",
        "\n",
        "17\tTYPE 7\tType 7 - Drug Already Marketed without Approved NDA\n",
        "\n",
        "18\tTYPE 8\tType 8 - Partial Rx to OTC Switch\n",
        "\n",
        "19\tUNKNOWN\t\n",
        "\n",
        "20\tUnspecified\t\n",
        "\n",
        "21\tREMS\tREMS\n",
        "\n",
        "22\tTYPE 10\tType 10 - New Indication Submitted as Distinct NDA - Not Consolidated\n",
        "\n",
        "23\tMEDGAS\tMedical Gas\n",
        "\n",
        "24\tTYPE 9\tType 9 - New Indication Submitted as Distinct NDA, Consolidated with Original NDA after Approval\n",
        "\n",
        "25\tTYPE 9- BLA\tType 9 - New indication submitted as distinct BLA, consolidated\n",
        "\n",
        "\n",
        "\n"
      ]
    },
    {
      "cell_type": "code",
      "metadata": {
        "id": "R8uYitDDWE5v",
        "colab_type": "code",
        "outputId": "b69492f2-b2fc-42e8-9933-f6c1a7ccc531",
        "colab": {
          "base_uri": "https://localhost:8080/",
          "height": 204
        }
      },
      "source": [
        "list(Master_df.columns)\n",
        "\n"
      ],
      "execution_count": 80,
      "outputs": [
        {
          "output_type": "execute_result",
          "data": {
            "text/plain": [
              "['SubmissionClassCodeID',\n",
              " 'SubmissionType',\n",
              " 'SubmissionNo',\n",
              " 'SubmissionStatus',\n",
              " 'SubmissionStatusDate',\n",
              " 'SubmissionsPublicNotes',\n",
              " 'ReviewPriority',\n",
              " 'ApplType',\n",
              " 'ApplPublicNotes',\n",
              " 'SponsorName',\n",
              " 'ApplNo']"
            ]
          },
          "metadata": {
            "tags": []
          },
          "execution_count": 80
        }
      ]
    }
  ]
}